{
 "cells": [
  {
   "cell_type": "code",
   "execution_count": 201,
   "metadata": {},
   "outputs": [
    {
     "data": {
      "text/plain": [
       "(         order_id  order_date customer_id    segment         category  \\\n",
       " 0  CA-2016-152156  2016-11-08    CG-12520   Consumer        Furniture   \n",
       " 1  CA-2016-152156  2016-11-08    CG-12520   Consumer        Furniture   \n",
       " 2  CA-2016-138688  2016-06-12    DV-13045  Corporate  Office Supplies   \n",
       " 3  US-2015-108966  2015-10-11    SO-20335   Consumer        Furniture   \n",
       " 4  US-2015-108966  2015-10-11    SO-20335   Consumer  Office Supplies   \n",
       " \n",
       "   sub_category     sales  quantity    profit  \n",
       " 0    Bookcases  261.9600         2   41.9136  \n",
       " 1       Chairs  731.9400         3  219.5820  \n",
       " 2       Labels   14.6200         2    6.8714  \n",
       " 3       Tables  957.5775         5 -383.0310  \n",
       " 4      Storage   22.3680         2    2.5164  ,\n",
       " order_id        9988\n",
       " order_date      9988\n",
       " customer_id     9988\n",
       " segment         9988\n",
       " category        9988\n",
       " sub_category    9988\n",
       " sales           9988\n",
       " quantity        9988\n",
       " profit          9988\n",
       " dtype: int64,\n",
       " order_id         object\n",
       " order_date       object\n",
       " customer_id      object\n",
       " segment          object\n",
       " category         object\n",
       " sub_category     object\n",
       " sales           float64\n",
       " quantity          int64\n",
       " profit          float64\n",
       " dtype: object)"
      ]
     },
     "execution_count": 201,
     "metadata": {},
     "output_type": "execute_result"
    }
   ],
   "source": [
    "import pandas as pd\n",
    "\n",
    "filename = 'dataset_superstore_simple.csv'\n",
    "\n",
    "data = pd.read_csv(filename)\n",
    "data.head(5), data.count(),data.dtypes"
   ]
  },
  {
   "cell_type": "code",
   "execution_count": 23,
   "metadata": {},
   "outputs": [
    {
     "data": {
      "text/html": [
       "<div>\n",
       "<style scoped>\n",
       "    .dataframe tbody tr th:only-of-type {\n",
       "        vertical-align: middle;\n",
       "    }\n",
       "\n",
       "    .dataframe tbody tr th {\n",
       "        vertical-align: top;\n",
       "    }\n",
       "\n",
       "    .dataframe thead th {\n",
       "        text-align: right;\n",
       "    }\n",
       "</style>\n",
       "<table border=\"1\" class=\"dataframe\">\n",
       "  <thead>\n",
       "    <tr style=\"text-align: right;\">\n",
       "      <th></th>\n",
       "      <th>sales</th>\n",
       "      <th>quantity</th>\n",
       "      <th>profit</th>\n",
       "    </tr>\n",
       "    <tr>\n",
       "      <th>customer_id</th>\n",
       "      <th></th>\n",
       "      <th></th>\n",
       "      <th></th>\n",
       "    </tr>\n",
       "  </thead>\n",
       "  <tbody>\n",
       "    <tr>\n",
       "      <th>AB-10105</th>\n",
       "      <td>14473.571</td>\n",
       "      <td>73</td>\n",
       "      <td>5444.8055</td>\n",
       "    </tr>\n",
       "  </tbody>\n",
       "</table>\n",
       "</div>"
      ],
      "text/plain": [
       "                 sales  quantity     profit\n",
       "customer_id                                \n",
       "AB-10105     14473.571        73  5444.8055"
      ]
     },
     "execution_count": 23,
     "metadata": {},
     "output_type": "execute_result"
    }
   ],
   "source": [
    "q1 = data.groupby(['customer_id']).sum()\n",
    "q1 = q1.sort_values(['sales'],ascending=False)\n",
    "q1.head(1)"
   ]
  },
  {
   "cell_type": "code",
   "execution_count": 36,
   "metadata": {},
   "outputs": [
    {
     "data": {
      "text/plain": [
       "sub_category\n",
       "Appliances    18138.0054\n",
       "Art            6527.7870\n",
       "Binders       30221.7633\n",
       "Envelopes      6964.1767\n",
       "Fasteners       949.5182\n",
       "Labels         5546.2540\n",
       "Paper         34053.5693\n",
       "Storage       21278.8264\n",
       "Supplies      -1189.0995\n",
       "Name: profit, dtype: float64"
      ]
     },
     "execution_count": 36,
     "metadata": {},
     "output_type": "execute_result"
    }
   ],
   "source": [
    "#q2_cat = list(set(data['category'])) #q2_cat = list(dict.fromkeys(data['category']))\n",
    "\n",
    "q2 = data.groupby(['category','sub_category'])['profit'].sum()\n",
    "q2['Office Supplies']"
   ]
  },
  {
   "cell_type": "code",
   "execution_count": 44,
   "metadata": {},
   "outputs": [
    {
     "data": {
      "text/plain": [
       "1869"
      ]
     },
     "execution_count": 44,
     "metadata": {},
     "output_type": "execute_result"
    }
   ],
   "source": [
    "q3 = data['order_id'][data['profit']<0].count()\n",
    "q3"
   ]
  },
  {
   "cell_type": "code",
   "execution_count": 95,
   "metadata": {},
   "outputs": [
    {
     "data": {
      "text/plain": [
       "(customer_id\n",
       " AD-10180    6106.880\n",
       " KH-16510    5952.859\n",
       " JE-16165    2697.248\n",
       " Name: sales, dtype: float64,\n",
       " customer_id\n",
       " AD-10180    6106.88\n",
       " Name: sales, dtype: float64)"
      ]
     },
     "execution_count": 95,
     "metadata": {},
     "output_type": "execute_result"
    }
   ],
   "source": [
    "q4 = data.groupby(['customer_id'])['sales'].sum()\n",
    "customer = ['JE-16165', 'KH-16510', 'AD-10180']\n",
    "\n",
    "q4=q4[q4.index.isin(customer)].sort_values(ascending=False)\n",
    "q4,q4.head(1)\n",
    "#customer_id is index not value after groupby"
   ]
  },
  {
   "cell_type": "code",
   "execution_count": 127,
   "metadata": {},
   "outputs": [
    {
     "data": {
      "text/plain": [
       "(            total_sales  customer_count  total_profit\n",
       " order_date                                           \n",
       " 2014        461609.0181            1992    51355.0525\n",
       " 2015        470532.5090            2102    61618.6037\n",
       " 2016        587205.6630            2585    79995.1763\n",
       " 2017        697515.3572            3309    77759.3144,\n",
       "             total_sales  customer_count  total_profit\n",
       " order_date                                           \n",
       " 2016         587205.663            2585    79995.1763)"
      ]
     },
     "execution_count": 127,
     "metadata": {},
     "output_type": "execute_result"
    }
   ],
   "source": [
    "data['order_date']=pd.to_datetime(data['order_date'])\n",
    "yearly_sales = data.groupby(data['order_date'].dt.year)\\\n",
    ".agg({'sales':'sum','customer_id':'count','profit':'sum'})\\\n",
    ".rename(columns={'sales':'total_sales','customer_id':'customer_count','profit':'total_profit'})\n",
    "\n",
    "# \\ can be used to split long line of command into separate line\n",
    "\n",
    "q5 = yearly_sales.sort_values(['total_profit'],ascending=False)\n",
    "yearly_sales,q5.head(1)"
   ]
  },
  {
   "cell_type": "code",
   "execution_count": 176,
   "metadata": {},
   "outputs": [
    {
     "data": {
      "image/png": "[encoded data removed]",
      "text/plain": [
       "<Figure size 432x288 with 1 Axes>"
      ]
     },
     "metadata": {
      "needs_background": "light"
     },
     "output_type": "display_data"
    },
    {
     "data": {
      "text/plain": [
       "(None,\n",
       "          order_id order_date customer_id   segment         category  \\\n",
       " 3  US-2015-108966 2015-10-11    SO-20335  Consumer        Furniture   \n",
       " 4  US-2015-108966 2015-10-11    SO-20335  Consumer  Office Supplies   \n",
       " 5  CA-2014-115812 2014-06-09    BH-11710  Consumer        Furniture   \n",
       " 6  CA-2014-115812 2014-06-09    BH-11710  Consumer  Office Supplies   \n",
       " 7  CA-2014-115812 2014-06-09    BH-11710  Consumer       Technology   \n",
       " \n",
       "   sub_category     sales  quantity    profit  year  \n",
       " 3       Tables  957.5775         5 -383.0310  2015  \n",
       " 4      Storage   22.3680         2    2.5164  2015  \n",
       " 5  Furnishings   48.8600         7   14.1694  2014  \n",
       " 6          Art    7.2800         4    1.9656  2014  \n",
       " 7       Phones  907.1520         6   90.7152  2014  )"
      ]
     },
     "execution_count": 176,
     "metadata": {},
     "output_type": "execute_result"
    }
   ],
   "source": [
    "import matplotlib.pyplot as plt\n",
    "\n",
    "q6 = data.copy()\n",
    "q6['year']=q6['order_date'].dt.year\n",
    "\n",
    "plot_year = [2014,2015]\n",
    "q6 = q6[q6['year'].isin(plot_year)]\n",
    "\n",
    "colormap = {2014:'red',2015:'green'}\n",
    "\n",
    "for item in plot_year:\n",
    "    plt.scatter(q6['sales'][q6['year']==item],\\\n",
    "                q6['profit'][q6['year']==item],\\\n",
    "                c=q6['year'][q6['year']==item].map(colormap),\n",
    "                label=item)\n",
    "plt.title('Sales vs Profit 2014-2015')\n",
    "plt.xlabel('Sales')\n",
    "plt.ylabel('Profit')\n",
    "plt.legend()\n",
    "plt.show(), q6.head(5)"
   ]
  },
  {
   "cell_type": "code",
   "execution_count": 197,
   "metadata": {},
   "outputs": [
    {
     "data": {
      "image/png": "[encoded data removed]",
      "text/plain": [
       "<Figure size 432x288 with 1 Axes>"
      ]
     },
     "metadata": {
      "needs_background": "light"
     },
     "output_type": "display_data"
    },
    {
     "data": {
      "text/plain": [
       "(None,\n",
       "                 sales  quantity     profit   year\n",
       " customer_id                                      \n",
       " PF-19120     9022.324        68  -631.9789  32240\n",
       " KD-16495     7039.044        35  2810.0215  26195\n",
       " CM-12385     6682.260        15  3197.4580  10075\n",
       " FH-14365     6056.090        22  2139.7363   8060\n",
       " NW-18400     5511.316        36  1654.2153  20150\n",
       " SB-20185     5414.246        31   939.1590  14105\n",
       " JH-15985     5352.786        29 -1429.3776   8060\n",
       " HM-14860     5327.802        20  2450.9987  10075\n",
       " CB-12025     4662.553        55   223.4447  20150\n",
       " QJ-19255     4409.850         6  1014.4635   4030)"
      ]
     },
     "execution_count": 197,
     "metadata": {},
     "output_type": "execute_result"
    }
   ],
   "source": [
    "q7 = data.copy()\n",
    "q7['year']=q7['order_date'].dt.year\n",
    "q7 = q7[q7['year'].isin([2015])]\n",
    "q7 = q7.groupby(['customer_id']).sum()\n",
    "q7 = q7.sort_values(['sales'],ascending=False).head(10)\n",
    "\n",
    "x = list(q7.index)\n",
    "y = q7['profit']\n",
    "y_pos = range(len(x))\n",
    "\n",
    "plt.bar(y_pos,y,align='center')\n",
    "plt.xticks(y_pos,x,rotation=90)\n",
    "plt.xlabel('Customer')\n",
    "plt.ylabel('Total Profit')\n",
    "plt.title('Total Profit of Top 10 Sales in 2015')\n",
    "plt.show(),q7"
   ]
  }
 ],
 "metadata": {
  "kernelspec": {
   "display_name": "Python 3",
   "language": "python",
   "name": "python3"
  },
  "language_info": {
   "codemirror_mode": {
    "name": "ipython",
    "version": 3
   },
   "file_extension": ".py",
   "mimetype": "text/x-python",
   "name": "python",
   "nbconvert_exporter": "python",
   "pygments_lexer": "ipython3",
   "version": "3.7.4"
  }
 },
 "nbformat": 4,
 "nbformat_minor": 4
}
